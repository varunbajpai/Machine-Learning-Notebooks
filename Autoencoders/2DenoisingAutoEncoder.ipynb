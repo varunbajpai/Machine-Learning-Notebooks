{
 "cells": [
  {
   "cell_type": "code",
   "execution_count": 2,
   "metadata": {},
   "outputs": [
    {
     "name": "stderr",
     "output_type": "stream",
     "text": [
      "Using TensorFlow backend.\n"
     ]
    }
   ],
   "source": [
    "from keras.layers import Input, Dense\n",
    "from keras.models import Sequential\n",
    "from keras.datasets import mnist\n",
    "import numpy as np\n",
    "from keras.models import load_model\n",
    "from keras import backend as K\n",
    "import matplotlib.pyplot as plt"
   ]
  },
  {
   "cell_type": "markdown",
   "metadata": {},
   "source": [
    "Preparation and preprocessing of data which will be fed to auto-encoder for image compression later"
   ]
  },
  {
   "cell_type": "code",
   "execution_count": 3,
   "metadata": {},
   "outputs": [],
   "source": [
    "(x_train, _), (x_test, _) = mnist.load_data()\n",
    "\n",
    "x_train = x_train.astype('float32') / 255.\n",
    "x_test = x_test.astype('float32') / 255.\n",
    "x_train = x_train.reshape((len(x_train), np.prod(x_train.shape[1:])))\n",
    "x_test = x_test.reshape((len(x_test), np.prod(x_test.shape[1:])))"
   ]
  },
  {
   "cell_type": "code",
   "execution_count": 4,
   "metadata": {},
   "outputs": [],
   "source": [
    "noise_factor = 0.5\n",
    "x_train_noisy = x_train + noise_factor * np.random.normal(loc=0.0, scale=1.0, size=x_train.shape) \n",
    "x_test_noisy = x_test + noise_factor * np.random.normal(loc=0.0, scale=1.0, size=x_test.shape) \n",
    "\n",
    "x_train_noisy = np.clip(x_train_noisy, 0., 1.)\n",
    "x_test_noisy = np.clip(x_test_noisy, 0., 1.)"
   ]
  },
  {
   "cell_type": "code",
   "execution_count": 12,
   "metadata": {},
   "outputs": [
    {
     "data": {
      "image/png": "[encoded data removed]",
      "text/plain": [
       "<Figure size 1440x144 with 1 Axes>"
      ]
     },
     "metadata": {
      "needs_background": "light"
     },
     "output_type": "display_data"
    },
    {
     "data": {
      "image/png": "[encoded data removed]",
      "text/plain": [
       "<Figure size 432x288 with 1 Axes>"
      ]
     },
     "metadata": {
      "needs_background": "light"
     },
     "output_type": "display_data"
    },
    {
     "data": {
      "image/png": "[encoded data removed]",
      "text/plain": [
       "<Figure size 432x288 with 1 Axes>"
      ]
     },
     "metadata": {
      "needs_background": "light"
     },
     "output_type": "display_data"
    },
    {
     "data": {
      "image/png": "[encoded data removed]",
      "text/plain": [
       "<Figure size 432x288 with 1 Axes>"
      ]
     },
     "metadata": {
      "needs_background": "light"
     },
     "output_type": "display_data"
    }
   ],
   "source": [
    "n = 10\n",
    "plt.figure(figsize=(20, 2))\n",
    "for i in range(2):\n",
    "    plt.imshow(x_test_noisy[i].reshape(28, 28))\n",
    "    plt.gray()\n",
    "    plt.show()\n",
    "    plt.imshow(x_test[i].reshape(28, 28))        \n",
    "    plt.gray()\n",
    "    plt.show()"
   ]
  },
  {
   "cell_type": "code",
   "execution_count": 14,
   "metadata": {},
   "outputs": [
    {
     "name": "stdout",
     "output_type": "stream",
     "text": [
      "(10000, 784) (10000, 784)\n"
     ]
    }
   ],
   "source": [
    "print(x_test_noisy.shape, x_test_noisy.shape)"
   ]
  },
  {
   "cell_type": "code",
   "execution_count": 15,
   "metadata": {},
   "outputs": [
    {
     "name": "stdout",
     "output_type": "stream",
     "text": [
      "_________________________________________________________________\n",
      "Layer (type)                 Output Shape              Param #   \n",
      "=================================================================\n",
      "dense_1 (Dense)              (None, 784)               615440    \n",
      "_________________________________________________________________\n",
      "dense_2 (Dense)              (None, 32)                25120     \n",
      "_________________________________________________________________\n",
      "dense_3 (Dense)              (None, 32)                1056      \n",
      "_________________________________________________________________\n",
      "dense_4 (Dense)              (None, 784)               25872     \n",
      "=================================================================\n",
      "Total params: 667,488\n",
      "Trainable params: 667,488\n",
      "Non-trainable params: 0\n",
      "_________________________________________________________________\n",
      "None\n"
     ]
    }
   ],
   "source": [
    "model = Sequential()\n",
    "\n",
    "model.add(Dense(784, input_dim = 784))\n",
    "model.add(Dense(32, activation='relu',input_dim = 784))\n",
    "model.add(Dense(32, activation='relu',input_dim = 32))\n",
    "model.add(Dense(784,activation='sigmoid', input_dim = 32))\n",
    "\n",
    "model.layers.pop()\n",
    "\n",
    "print(model.summary())\n"
   ]
  },
  {
   "cell_type": "code",
   "execution_count": 16,
   "metadata": {},
   "outputs": [],
   "source": [
    "model.compile(optimizer='adadelta', loss='binary_crossentropy')"
   ]
  },
  {
   "cell_type": "code",
   "execution_count": 17,
   "metadata": {},
   "outputs": [
    {
     "name": "stdout",
     "output_type": "stream",
     "text": [
      "Train on 60000 samples, validate on 10000 samples\n",
      "Epoch 1/50\n",
      "60000/60000 [==============================] - 4s 70us/step - loss: 0.3155 - val_loss: 0.2921\n",
      "Epoch 2/50\n",
      "60000/60000 [==============================] - 4s 64us/step - loss: 0.2602 - val_loss: 0.2979\n",
      "Epoch 3/50\n",
      "60000/60000 [==============================] - 4s 64us/step - loss: 0.2433 - val_loss: 0.2864\n",
      "Epoch 4/50\n",
      "60000/60000 [==============================] - 4s 66us/step - loss: 0.2295 - val_loss: 0.2877\n",
      "Epoch 5/50\n",
      "60000/60000 [==============================] - 4s 65us/step - loss: 0.2174 - val_loss: 0.2859\n",
      "Epoch 6/50\n",
      "60000/60000 [==============================] - 4s 64us/step - loss: 0.2063 - val_loss: 0.2788\n",
      "Epoch 7/50\n",
      "60000/60000 [==============================] - 4s 64us/step - loss: 0.1962 - val_loss: 0.2712\n",
      "Epoch 8/50\n",
      "60000/60000 [==============================] - 4s 64us/step - loss: 0.1900 - val_loss: 0.2679\n",
      "Epoch 9/50\n",
      "60000/60000 [==============================] - 4s 63us/step - loss: 0.1861 - val_loss: 0.2600\n",
      "Epoch 10/50\n",
      "60000/60000 [==============================] - 4s 64us/step - loss: 0.1826 - val_loss: 0.2623\n",
      "Epoch 11/50\n",
      "60000/60000 [==============================] - 4s 64us/step - loss: 0.1794 - val_loss: 0.2648\n",
      "Epoch 12/50\n",
      "60000/60000 [==============================] - 4s 64us/step - loss: 0.1758 - val_loss: 0.2648\n",
      "Epoch 13/50\n",
      "60000/60000 [==============================] - 4s 64us/step - loss: 0.1722 - val_loss: 0.2628\n",
      "Epoch 14/50\n",
      "60000/60000 [==============================] - 4s 65us/step - loss: 0.1697 - val_loss: 0.2601\n",
      "Epoch 15/50\n",
      "60000/60000 [==============================] - 4s 65us/step - loss: 0.1677 - val_loss: 0.2607\n",
      "Epoch 16/50\n",
      "60000/60000 [==============================] - 4s 66us/step - loss: 0.1660 - val_loss: 0.2504\n",
      "Epoch 17/50\n",
      "60000/60000 [==============================] - 4s 67us/step - loss: 0.1644 - val_loss: 0.2619\n",
      "Epoch 18/50\n",
      "60000/60000 [==============================] - 4s 66us/step - loss: 0.1630 - val_loss: 0.2504\n",
      "Epoch 19/50\n",
      "60000/60000 [==============================] - 4s 65us/step - loss: 0.1613 - val_loss: 0.2574\n",
      "Epoch 20/50\n",
      "60000/60000 [==============================] - 4s 65us/step - loss: 0.1597 - val_loss: 0.2530\n",
      "Epoch 21/50\n",
      "60000/60000 [==============================] - 4s 66us/step - loss: 0.1584 - val_loss: 0.2412\n",
      "Epoch 22/50\n",
      "60000/60000 [==============================] - 4s 66us/step - loss: 0.1575 - val_loss: 0.2435\n",
      "Epoch 23/50\n",
      "60000/60000 [==============================] - 4s 70us/step - loss: 0.1562 - val_loss: 0.2495\n",
      "Epoch 24/50\n",
      "60000/60000 [==============================] - 4s 74us/step - loss: 0.1552 - val_loss: 0.2517\n",
      "Epoch 25/50\n",
      "60000/60000 [==============================] - 4s 71us/step - loss: 0.1539 - val_loss: 0.2400\n",
      "Epoch 26/50\n",
      "60000/60000 [==============================] - 4s 69us/step - loss: 0.1528 - val_loss: 0.2393\n",
      "Epoch 27/50\n",
      "60000/60000 [==============================] - 4s 70us/step - loss: 0.1516 - val_loss: 0.2278\n",
      "Epoch 28/50\n",
      "60000/60000 [==============================] - 4s 69us/step - loss: 0.1506 - val_loss: 0.2321\n",
      "Epoch 29/50\n",
      "60000/60000 [==============================] - 4s 68us/step - loss: 0.1495 - val_loss: 0.2212\n",
      "Epoch 30/50\n",
      "60000/60000 [==============================] - 4s 67us/step - loss: 0.1484 - val_loss: 0.2321\n",
      "Epoch 31/50\n",
      "60000/60000 [==============================] - 4s 68us/step - loss: 0.1476 - val_loss: 0.2238\n",
      "Epoch 32/50\n",
      "60000/60000 [==============================] - 4s 71us/step - loss: 0.1470 - val_loss: 0.2240\n",
      "Epoch 33/50\n",
      "60000/60000 [==============================] - 4s 75us/step - loss: 0.1462 - val_loss: 0.2181\n",
      "Epoch 34/50\n",
      "60000/60000 [==============================] - 4s 69us/step - loss: 0.1457 - val_loss: 0.2222\n",
      "Epoch 35/50\n",
      "60000/60000 [==============================] - 4s 67us/step - loss: 0.1452 - val_loss: 0.2254\n",
      "Epoch 36/50\n",
      "60000/60000 [==============================] - 4s 67us/step - loss: 0.1448 - val_loss: 0.2083\n",
      "Epoch 37/50\n",
      "60000/60000 [==============================] - 4s 67us/step - loss: 0.1444 - val_loss: 0.2123\n",
      "Epoch 38/50\n",
      "60000/60000 [==============================] - 4s 66us/step - loss: 0.1437 - val_loss: 0.2128\n",
      "Epoch 39/50\n",
      "60000/60000 [==============================] - 4s 66us/step - loss: 0.1434 - val_loss: 0.2078\n",
      "Epoch 40/50\n",
      "60000/60000 [==============================] - 4s 67us/step - loss: 0.1430 - val_loss: 0.2152\n",
      "Epoch 41/50\n",
      "60000/60000 [==============================] - 4s 67us/step - loss: 0.1424 - val_loss: 0.2111\n",
      "Epoch 42/50\n",
      "60000/60000 [==============================] - 4s 67us/step - loss: 0.1421 - val_loss: 0.2075\n",
      "Epoch 43/50\n",
      "60000/60000 [==============================] - 4s 68us/step - loss: 0.1417 - val_loss: 0.2101\n",
      "Epoch 44/50\n",
      "60000/60000 [==============================] - 4s 67us/step - loss: 0.1414 - val_loss: 0.1983\n",
      "Epoch 45/50\n",
      "60000/60000 [==============================] - 4s 67us/step - loss: 0.1409 - val_loss: 0.1972\n",
      "Epoch 46/50\n",
      "60000/60000 [==============================] - 4s 66us/step - loss: 0.1407 - val_loss: 0.1856\n",
      "Epoch 47/50\n",
      "60000/60000 [==============================] - 4s 67us/step - loss: 0.1403 - val_loss: 0.2046\n",
      "Epoch 48/50\n",
      "60000/60000 [==============================] - 4s 66us/step - loss: 0.1400 - val_loss: 0.2005\n",
      "Epoch 49/50\n",
      "60000/60000 [==============================] - 4s 67us/step - loss: 0.1398 - val_loss: 0.1945\n",
      "Epoch 50/50\n",
      "60000/60000 [==============================] - 4s 67us/step - loss: 0.1395 - val_loss: 0.1855\n"
     ]
    },
    {
     "data": {
      "text/plain": [
       "<keras.callbacks.History at 0x15062fcc0>"
      ]
     },
     "execution_count": 17,
     "metadata": {},
     "output_type": "execute_result"
    }
   ],
   "source": [
    "model.fit(x_train_noisy, x_train,\n",
    "                epochs=50,\n",
    "                batch_size=256,\n",
    "                shuffle=True,\n",
    "                validation_data=(x_test, x_test))"
   ]
  },
  {
   "cell_type": "code",
   "execution_count": 18,
   "metadata": {},
   "outputs": [],
   "source": [
    "model.save('my_model_denoising.h5')"
   ]
  },
  {
   "cell_type": "code",
   "execution_count": 19,
   "metadata": {},
   "outputs": [],
   "source": [
    "model = load_model('my_model_denoising.h5')"
   ]
  },
  {
   "cell_type": "code",
   "execution_count": 25,
   "metadata": {},
   "outputs": [
    {
     "data": {
      "text/plain": [
       "(10000, 32)"
      ]
     },
     "execution_count": 25,
     "metadata": {},
     "output_type": "execute_result"
    }
   ],
   "source": [
    "get_encoded_layer_output = K.function([model.layers[0].input],[model.layers[1].output])\n",
    "encoder = get_encoded_layer_output([x_test_noisy])[0]\n",
    "encoder.shape"
   ]
  },
  {
   "cell_type": "code",
   "execution_count": 26,
   "metadata": {},
   "outputs": [],
   "source": [
    "get_decoder_layer_output = K.function([model.layers[2].input],[model.layers[3].output])\n",
    "decoder = get_decoder_layer_output([encoder])[0]"
   ]
  },
  {
   "cell_type": "code",
   "execution_count": 27,
   "metadata": {},
   "outputs": [
    {
     "data": {
      "text/plain": [
       "(10000, 784)"
      ]
     },
     "execution_count": 27,
     "metadata": {},
     "output_type": "execute_result"
    }
   ],
   "source": [
    "decoder.shape"
   ]
  },
  {
   "cell_type": "code",
   "execution_count": 28,
   "metadata": {},
   "outputs": [],
   "source": [
    "encoded_imgs = encoder\n",
    "decoded_imgs = decoder"
   ]
  },
  {
   "cell_type": "code",
   "execution_count": 30,
   "metadata": {},
   "outputs": [
    {
     "data": {
      "image/png": "[encoded data removed]",
      "text/plain": [
       "<Figure size 1440x288 with 2 Axes>"
      ]
     },
     "metadata": {
      "needs_background": "light"
     },
     "output_type": "display_data"
    },
    {
     "data": {
      "image/png": "[encoded data removed]",
      "text/plain": [
       "<Figure size 432x288 with 2 Axes>"
      ]
     },
     "metadata": {
      "needs_background": "light"
     },
     "output_type": "display_data"
    },
    {
     "data": {
      "image/png": "[encoded data removed]",
      "text/plain": [
       "<Figure size 432x288 with 2 Axes>"
      ]
     },
     "metadata": {
      "needs_background": "light"
     },
     "output_type": "display_data"
    },
    {
     "data": {
      "image/png": "[encoded data removed]",
      "text/plain": [
       "<Figure size 432x288 with 2 Axes>"
      ]
     },
     "metadata": {
      "needs_background": "light"
     },
     "output_type": "display_data"
    },
    {
     "data": {
      "image/png": "[encoded data removed]",
      "text/plain": [
       "<Figure size 432x288 with 2 Axes>"
      ]
     },
     "metadata": {
      "needs_background": "light"
     },
     "output_type": "display_data"
    },
    {
     "data": {
      "image/png": "[encoded data removed]",
      "text/plain": [
       "<Figure size 432x288 with 2 Axes>"
      ]
     },
     "metadata": {
      "needs_background": "light"
     },
     "output_type": "display_data"
    },
    {
     "data": {
      "image/png": "[encoded data removed]",
      "text/plain": [
       "<Figure size 432x288 with 2 Axes>"
      ]
     },
     "metadata": {
      "needs_background": "light"
     },
     "output_type": "display_data"
    },
    {
     "data": {
      "image/png": "[encoded data removed]",
      "text/plain": [
       "<Figure size 432x288 with 2 Axes>"
      ]
     },
     "metadata": {
      "needs_background": "light"
     },
     "output_type": "display_data"
    },
    {
     "data": {
      "image/png": "[encoded data removed]",
      "text/plain": [
       "<Figure size 432x288 with 2 Axes>"
      ]
     },
     "metadata": {
      "needs_background": "light"
     },
     "output_type": "display_data"
    },
    {
     "data": {
      "image/png": "[encoded data removed]",
      "text/plain": [
       "<Figure size 432x288 with 2 Axes>"
      ]
     },
     "metadata": {
      "needs_background": "light"
     },
     "output_type": "display_data"
    }
   ],
   "source": [
    "# use Matplotlib (don't ask)\n",
    "import matplotlib.pyplot as plt\n",
    "\n",
    "n = 10  # how many digits we will display\n",
    "plt.figure(figsize=(20, 4))\n",
    "for i in range(n):\n",
    "    # display original\n",
    "    ax = plt.subplot(2, n, i + 1)\n",
    "    plt.imshow(x_test_noisy[i].reshape(28, 28))\n",
    "    plt.gray()\n",
    "    ax.get_xaxis().set_visible(False)\n",
    "    ax.get_yaxis().set_visible(False)\n",
    "\n",
    "    # display reconstruction\n",
    "    ax = plt.subplot(2, n, i + 1 + n)\n",
    "    plt.imshow(decoded_imgs[i].reshape(28, 28))\n",
    "    plt.gray()\n",
    "    ax.get_xaxis().set_visible(False)\n",
    "    ax.get_yaxis().set_visible(False)\n",
    "    plt.show()"
   ]
  },
  {
   "cell_type": "code",
   "execution_count": null,
   "metadata": {},
   "outputs": [],
   "source": []
  }
 ],
 "metadata": {
  "kernelspec": {
   "display_name": "Python 3",
   "language": "python",
   "name": "python3"
  },
  "language_info": {
   "codemirror_mode": {
    "name": "ipython",
    "version": 3
   },
   "file_extension": ".py",
   "mimetype": "text/x-python",
   "name": "python",
   "nbconvert_exporter": "python",
   "pygments_lexer": "ipython3",
   "version": "3.5.4"
  }
 },
 "nbformat": 4,
 "nbformat_minor": 2
}
