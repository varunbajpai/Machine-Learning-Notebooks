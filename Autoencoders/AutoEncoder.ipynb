{
 "cells": [
  {
   "cell_type": "code",
   "execution_count": 1,
   "metadata": {},
   "outputs": [
    {
     "name": "stderr",
     "output_type": "stream",
     "text": [
      "Using TensorFlow backend.\n"
     ]
    }
   ],
   "source": [
    "from keras.layers import Input, Dense\n",
    "from keras.models import Sequential\n",
    "from keras.datasets import mnist\n",
    "import numpy as np\n",
    "from keras.models import load_model\n",
    "from keras import backend as K"
   ]
  },
  {
   "cell_type": "markdown",
   "metadata": {},
   "source": [
    "Preparation and preprocessing of data which will be fed to auto-encoder for image compression later"
   ]
  },
  {
   "cell_type": "code",
   "execution_count": 2,
   "metadata": {},
   "outputs": [
    {
     "name": "stdout",
     "output_type": "stream",
     "text": [
      "(60000, 784)\n",
      "(10000, 784)\n"
     ]
    }
   ],
   "source": [
    "(x_train, _), (x_test, _) = mnist.load_data()\n",
    "x_train = x_train.astype('float32') / 255.\n",
    "x_test = x_test.astype('float32') / 255.\n",
    "x_train = x_train.reshape((len(x_train), np.prod(x_train.shape[1:])))\n",
    "x_test = x_test.reshape((len(x_test), np.prod(x_test.shape[1:])))\n",
    "print( x_train.shape)\n",
    "print( x_test.shape)"
   ]
  },
  {
   "cell_type": "code",
   "execution_count": 3,
   "metadata": {},
   "outputs": [
    {
     "name": "stdout",
     "output_type": "stream",
     "text": [
      "[[0. 0. 0. ... 0. 0. 0.]\n",
      " [0. 0. 0. ... 0. 0. 0.]\n",
      " [0. 0. 0. ... 0. 0. 0.]\n",
      " ...\n",
      " [0. 0. 0. ... 0. 0. 0.]\n",
      " [0. 0. 0. ... 0. 0. 0.]\n",
      " [0. 0. 0. ... 0. 0. 0.]]\n"
     ]
    }
   ],
   "source": [
    "print(x_train)"
   ]
  },
  {
   "cell_type": "code",
   "execution_count": 4,
   "metadata": {},
   "outputs": [
    {
     "name": "stdout",
     "output_type": "stream",
     "text": [
      "_________________________________________________________________\n",
      "Layer (type)                 Output Shape              Param #   \n",
      "=================================================================\n",
      "dense_1 (Dense)              (None, 784)               615440    \n",
      "_________________________________________________________________\n",
      "dense_2 (Dense)              (None, 32)                25120     \n",
      "_________________________________________________________________\n",
      "dense_3 (Dense)              (None, 32)                1056      \n",
      "_________________________________________________________________\n",
      "dense_4 (Dense)              (None, 784)               25872     \n",
      "=================================================================\n",
      "Total params: 667,488\n",
      "Trainable params: 667,488\n",
      "Non-trainable params: 0\n",
      "_________________________________________________________________\n",
      "None\n"
     ]
    }
   ],
   "source": [
    "model = Sequential()\n",
    "\n",
    "model.add(Dense(784, input_dim = 784))\n",
    "model.add(Dense(32, activation='relu',input_dim = 784))\n",
    "model.add(Dense(32, activation='relu',input_dim = 32))\n",
    "model.add(Dense(784,activation='sigmoid', input_dim = 32))\n",
    "\n",
    "model.layers.pop()\n",
    "\n",
    "print(model.summary())\n"
   ]
  },
  {
   "cell_type": "code",
   "execution_count": 5,
   "metadata": {},
   "outputs": [],
   "source": [
    " model.compile(optimizer='adadelta', loss='binary_crossentropy')"
   ]
  },
  {
   "cell_type": "code",
   "execution_count": 6,
   "metadata": {},
   "outputs": [
    {
     "name": "stdout",
     "output_type": "stream",
     "text": [
      "Train on 60000 samples, validate on 10000 samples\n",
      "Epoch 1/50\n",
      "60000/60000 [==============================] - 4s 66us/step - loss: 0.3275 - val_loss: 0.2628\n",
      "Epoch 2/50\n",
      "60000/60000 [==============================] - 4s 60us/step - loss: 0.2490 - val_loss: 0.2336\n",
      "Epoch 3/50\n",
      "60000/60000 [==============================] - 4s 60us/step - loss: 0.2246 - val_loss: 0.2152\n",
      "Epoch 4/50\n",
      "60000/60000 [==============================] - 4s 60us/step - loss: 0.2080 - val_loss: 0.1988\n",
      "Epoch 5/50\n",
      "60000/60000 [==============================] - 4s 60us/step - loss: 0.1929 - val_loss: 0.1862\n",
      "Epoch 6/50\n",
      "60000/60000 [==============================] - 4s 60us/step - loss: 0.1825 - val_loss: 0.1768\n",
      "Epoch 7/50\n",
      "60000/60000 [==============================] - 4s 60us/step - loss: 0.1742 - val_loss: 0.1706\n",
      "Epoch 8/50\n",
      "60000/60000 [==============================] - 4s 61us/step - loss: 0.1685 - val_loss: 0.1654\n",
      "Epoch 9/50\n",
      "60000/60000 [==============================] - 4s 62us/step - loss: 0.1639 - val_loss: 0.1604\n",
      "Epoch 10/50\n",
      "60000/60000 [==============================] - 4s 62us/step - loss: 0.1598 - val_loss: 0.1555\n",
      "Epoch 11/50\n",
      "60000/60000 [==============================] - 4s 64us/step - loss: 0.1563 - val_loss: 0.1545\n",
      "Epoch 12/50\n",
      "60000/60000 [==============================] - 4s 63us/step - loss: 0.1531 - val_loss: 0.1513\n",
      "Epoch 13/50\n",
      "60000/60000 [==============================] - 4s 64us/step - loss: 0.1510 - val_loss: 0.1525\n",
      "Epoch 14/50\n",
      "60000/60000 [==============================] - 4s 62us/step - loss: 0.1493 - val_loss: 0.1453\n",
      "Epoch 15/50\n",
      "60000/60000 [==============================] - 4s 62us/step - loss: 0.1472 - val_loss: 0.1441\n",
      "Epoch 16/50\n",
      "60000/60000 [==============================] - 4s 63us/step - loss: 0.1455 - val_loss: 0.1430\n",
      "Epoch 17/50\n",
      "60000/60000 [==============================] - 4s 62us/step - loss: 0.1437 - val_loss: 0.1420\n",
      "Epoch 18/50\n",
      "60000/60000 [==============================] - 4s 62us/step - loss: 0.1419 - val_loss: 0.1406\n",
      "Epoch 19/50\n",
      "60000/60000 [==============================] - 4s 62us/step - loss: 0.1400 - val_loss: 0.1386\n",
      "Epoch 20/50\n",
      "60000/60000 [==============================] - 4s 63us/step - loss: 0.1383 - val_loss: 0.1354\n",
      "Epoch 21/50\n",
      "60000/60000 [==============================] - 4s 67us/step - loss: 0.1365 - val_loss: 0.1341\n",
      "Epoch 22/50\n",
      "60000/60000 [==============================] - 4s 67us/step - loss: 0.1354 - val_loss: 0.1329\n",
      "Epoch 23/50\n",
      "60000/60000 [==============================] - 4s 67us/step - loss: 0.1339 - val_loss: 0.1330\n",
      "Epoch 24/50\n",
      "60000/60000 [==============================] - 4s 66us/step - loss: 0.1326 - val_loss: 0.1306\n",
      "Epoch 25/50\n",
      "60000/60000 [==============================] - 4s 67us/step - loss: 0.1311 - val_loss: 0.1303\n",
      "Epoch 26/50\n",
      "60000/60000 [==============================] - 4s 64us/step - loss: 0.1298 - val_loss: 0.1304\n",
      "Epoch 27/50\n",
      "60000/60000 [==============================] - 4s 63us/step - loss: 0.1289 - val_loss: 0.1257\n",
      "Epoch 28/50\n",
      "60000/60000 [==============================] - 4s 64us/step - loss: 0.1278 - val_loss: 0.1251\n",
      "Epoch 29/50\n",
      "60000/60000 [==============================] - 4s 64us/step - loss: 0.1267 - val_loss: 0.1239\n",
      "Epoch 30/50\n",
      "60000/60000 [==============================] - 4s 64us/step - loss: 0.1258 - val_loss: 0.1232\n",
      "Epoch 31/50\n",
      "60000/60000 [==============================] - 4s 64us/step - loss: 0.1248 - val_loss: 0.1229\n",
      "Epoch 32/50\n",
      "60000/60000 [==============================] - 4s 64us/step - loss: 0.1240 - val_loss: 0.1231\n",
      "Epoch 33/50\n",
      "60000/60000 [==============================] - 4s 64us/step - loss: 0.1228 - val_loss: 0.1210\n",
      "Epoch 34/50\n",
      "60000/60000 [==============================] - 4s 64us/step - loss: 0.1221 - val_loss: 0.1201\n",
      "Epoch 35/50\n",
      "60000/60000 [==============================] - 4s 65us/step - loss: 0.1213 - val_loss: 0.1202\n",
      "Epoch 36/50\n",
      "60000/60000 [==============================] - 4s 65us/step - loss: 0.1206 - val_loss: 0.1180\n",
      "Epoch 37/50\n",
      "60000/60000 [==============================] - 4s 65us/step - loss: 0.1195 - val_loss: 0.1181\n",
      "Epoch 38/50\n",
      "60000/60000 [==============================] - 4s 64us/step - loss: 0.1193 - val_loss: 0.1169\n",
      "Epoch 39/50\n",
      "60000/60000 [==============================] - 4s 65us/step - loss: 0.1186 - val_loss: 0.1164\n",
      "Epoch 40/50\n",
      "60000/60000 [==============================] - 4s 66us/step - loss: 0.1182 - val_loss: 0.1165\n",
      "Epoch 41/50\n",
      "60000/60000 [==============================] - 4s 67us/step - loss: 0.1178 - val_loss: 0.1170\n",
      "Epoch 42/50\n",
      "60000/60000 [==============================] - 4s 66us/step - loss: 0.1174 - val_loss: 0.1154\n",
      "Epoch 43/50\n",
      "60000/60000 [==============================] - 4s 65us/step - loss: 0.1172 - val_loss: 0.1156\n",
      "Epoch 44/50\n",
      "60000/60000 [==============================] - 4s 65us/step - loss: 0.1169 - val_loss: 0.1166\n",
      "Epoch 45/50\n",
      "60000/60000 [==============================] - 4s 64us/step - loss: 0.1168 - val_loss: 0.1154\n",
      "Epoch 46/50\n",
      "60000/60000 [==============================] - 4s 68us/step - loss: 0.1165 - val_loss: 0.1154\n",
      "Epoch 47/50\n",
      "60000/60000 [==============================] - 4s 69us/step - loss: 0.1162 - val_loss: 0.1145\n",
      "Epoch 48/50\n",
      "60000/60000 [==============================] - 4s 68us/step - loss: 0.1162 - val_loss: 0.1140\n",
      "Epoch 49/50\n",
      "60000/60000 [==============================] - 4s 72us/step - loss: 0.1159 - val_loss: 0.1151\n",
      "Epoch 50/50\n",
      "60000/60000 [==============================] - 4s 63us/step - loss: 0.1157 - val_loss: 0.1139\n"
     ]
    },
    {
     "data": {
      "text/plain": [
       "<keras.callbacks.History at 0x141e51550>"
      ]
     },
     "execution_count": 6,
     "metadata": {},
     "output_type": "execute_result"
    }
   ],
   "source": [
    "model.fit(x_train, x_train,\n",
    "                epochs=50,\n",
    "                batch_size=256,\n",
    "                shuffle=True,\n",
    "                validation_data=(x_test, x_test))"
   ]
  },
  {
   "cell_type": "code",
   "execution_count": 7,
   "metadata": {},
   "outputs": [],
   "source": [
    "model.save('my_model.h5')"
   ]
  },
  {
   "cell_type": "code",
   "execution_count": 8,
   "metadata": {},
   "outputs": [],
   "source": [
    "model = load_model('my_model.h5')"
   ]
  },
  {
   "cell_type": "code",
   "execution_count": 9,
   "metadata": {},
   "outputs": [],
   "source": [
    "get_encoded_layer_output = K.function([model.layers[0].input],[model.layers[1].output])\n",
    "encoder = get_encoded_layer_output([x_test])[0]\n",
    "encoder.shape"
   ]
  },
  {
   "cell_type": "code",
   "execution_count": 12,
   "metadata": {},
   "outputs": [],
   "source": [
    "get_decoder_layer_output = K.function([model.layers[2].input],[model.layers[3].output])\n",
    "decoder = get_decoder_layer_output([encoder])[0]"
   ]
  },
  {
   "cell_type": "code",
   "execution_count": 13,
   "metadata": {},
   "outputs": [
    {
     "data": {
      "text/plain": [
       "(10000, 784)"
      ]
     },
     "execution_count": 13,
     "metadata": {},
     "output_type": "execute_result"
    }
   ],
   "source": [
    "decoder.shape"
   ]
  },
  {
   "cell_type": "code",
   "execution_count": 14,
   "metadata": {},
   "outputs": [],
   "source": [
    "encoded_imgs = encoder\n",
    "decoded_imgs = decoder"
   ]
  },
  {
   "cell_type": "code",
   "execution_count": 16,
   "metadata": {},
   "outputs": [
    {
     "data": {
      "image/png": "[encoded data removed]",
      "text/plain": [
       "<Figure size 1440x288 with 2 Axes>"
      ]
     },
     "metadata": {
      "needs_background": "light"
     },
     "output_type": "display_data"
    },
    {
     "data": {
      "image/png": "[encoded data removed]",
      "text/plain": [
       "<Figure size 432x288 with 2 Axes>"
      ]
     },
     "metadata": {
      "needs_background": "light"
     },
     "output_type": "display_data"
    },
    {
     "data": {
      "image/png": "[encoded data removed]",
      "text/plain": [
       "<Figure size 432x288 with 2 Axes>"
      ]
     },
     "metadata": {
      "needs_background": "light"
     },
     "output_type": "display_data"
    },
    {
     "data": {
      "image/png": "[encoded data removed]",
      "text/plain": [
       "<Figure size 432x288 with 2 Axes>"
      ]
     },
     "metadata": {
      "needs_background": "light"
     },
     "output_type": "display_data"
    },
    {
     "data": {
      "image/png": "[encoded data removed]",
      "text/plain": [
       "<Figure size 432x288 with 2 Axes>"
      ]
     },
     "metadata": {
      "needs_background": "light"
     },
     "output_type": "display_data"
    },
    {
     "data": {
      "image/png": "[encoded data removed]",
      "text/plain": [
       "<Figure size 432x288 with 2 Axes>"
      ]
     },
     "metadata": {
      "needs_background": "light"
     },
     "output_type": "display_data"
    },
    {
     "data": {
      "image/png": "[encoded data removed]",
      "text/plain": [
       "<Figure size 432x288 with 2 Axes>"
      ]
     },
     "metadata": {
      "needs_background": "light"
     },
     "output_type": "display_data"
    },
    {
     "data": {
      "image/png": "[encoded data removed]",
      "text/plain": [
       "<Figure size 432x288 with 2 Axes>"
      ]
     },
     "metadata": {
      "needs_background": "light"
     },
     "output_type": "display_data"
    },
    {
     "data": {
      "image/png": "[encoded data removed]",
      "text/plain": [
       "<Figure size 432x288 with 2 Axes>"
      ]
     },
     "metadata": {
      "needs_background": "light"
     },
     "output_type": "display_data"
    },
    {
     "data": {
      "image/png": "[encoded data removed]",
      "text/plain": [
       "<Figure size 432x288 with 2 Axes>"
      ]
     },
     "metadata": {
      "needs_background": "light"
     },
     "output_type": "display_data"
    }
   ],
   "source": [
    "# use Matplotlib (don't ask)\n",
    "import matplotlib.pyplot as plt\n",
    "\n",
    "n = 10  # how many digits we will display\n",
    "plt.figure(figsize=(20, 4))\n",
    "for i in range(n):\n",
    "    # display original\n",
    "    ax = plt.subplot(2, n, i + 1)\n",
    "    plt.imshow(x_test[i].reshape(28, 28))\n",
    "    plt.gray()\n",
    "    ax.get_xaxis().set_visible(False)\n",
    "    ax.get_yaxis().set_visible(False)\n",
    "\n",
    "    # display reconstruction\n",
    "    ax = plt.subplot(2, n, i + 1 + n)\n",
    "    plt.imshow(decoded_imgs[i].reshape(28, 28))\n",
    "    plt.gray()\n",
    "    ax.get_xaxis().set_visible(False)\n",
    "    ax.get_yaxis().set_visible(False)\n",
    "    plt.show()"
   ]
  },
  {
   "cell_type": "code",
   "execution_count": null,
   "metadata": {},
   "outputs": [],
   "source": []
  }
 ],
 "metadata": {
  "kernelspec": {
   "display_name": "Python 3",
   "language": "python",
   "name": "python3"
  },
  "language_info": {
   "codemirror_mode": {
    "name": "ipython",
    "version": 3
   },
   "file_extension": ".py",
   "mimetype": "text/x-python",
   "name": "python",
   "nbconvert_exporter": "python",
   "pygments_lexer": "ipython3",
   "version": "3.5.4"
  }
 },
 "nbformat": 4,
 "nbformat_minor": 2
}
