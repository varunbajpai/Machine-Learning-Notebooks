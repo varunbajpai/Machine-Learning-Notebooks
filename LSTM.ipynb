{
 "cells": [
  {
   "cell_type": "code",
   "execution_count": 1,
   "metadata": {},
   "outputs": [
    {
     "name": "stderr",
     "output_type": "stream",
     "text": [
      "/usr/lib/python3.6/importlib/_bootstrap.py:219: RuntimeWarning: numpy.dtype size changed, may indicate binary incompatibility. Expected 96, got 88\n",
      "  return f(*args, **kwds)\n",
      "/usr/lib/python3.6/importlib/_bootstrap.py:219: RuntimeWarning: numpy.dtype size changed, may indicate binary incompatibility. Expected 96, got 88\n",
      "  return f(*args, **kwds)\n",
      "Using TensorFlow backend.\n"
     ]
    }
   ],
   "source": [
    "import numpy as np\n",
    "import pandas as pd\n",
    "import matplotlib.pyplot as plt\n",
    "from keras.models import Sequential\n",
    "from sklearn.preprocessing import StandardScaler\n",
    "from keras.layers import Dense\n",
    "from keras.layers import LSTM\n",
    "from keras.layers import Dropout"
   ]
  },
  {
   "cell_type": "code",
   "execution_count": 2,
   "metadata": {},
   "outputs": [
    {
     "data": {
      "text/html": [
       "<div>\n",
       "<style scoped>\n",
       "    .dataframe tbody tr th:only-of-type {\n",
       "        vertical-align: middle;\n",
       "    }\n",
       "\n",
       "    .dataframe tbody tr th {\n",
       "        vertical-align: top;\n",
       "    }\n",
       "\n",
       "    .dataframe thead th {\n",
       "        text-align: right;\n",
       "    }\n",
       "</style>\n",
       "<table border=\"1\" class=\"dataframe\">\n",
       "  <thead>\n",
       "    <tr style=\"text-align: right;\">\n",
       "      <th></th>\n",
       "      <th>Date</th>\n",
       "      <th>Open</th>\n",
       "      <th>High</th>\n",
       "      <th>Low</th>\n",
       "      <th>Close</th>\n",
       "      <th>Volume</th>\n",
       "    </tr>\n",
       "  </thead>\n",
       "  <tbody>\n",
       "    <tr>\n",
       "      <th>0</th>\n",
       "      <td>1/3/2012</td>\n",
       "      <td>325.25</td>\n",
       "      <td>332.83</td>\n",
       "      <td>324.97</td>\n",
       "      <td>663.59</td>\n",
       "      <td>7,380,500</td>\n",
       "    </tr>\n",
       "    <tr>\n",
       "      <th>1</th>\n",
       "      <td>1/4/2012</td>\n",
       "      <td>331.27</td>\n",
       "      <td>333.87</td>\n",
       "      <td>329.08</td>\n",
       "      <td>666.45</td>\n",
       "      <td>5,749,400</td>\n",
       "    </tr>\n",
       "    <tr>\n",
       "      <th>2</th>\n",
       "      <td>1/5/2012</td>\n",
       "      <td>329.83</td>\n",
       "      <td>330.75</td>\n",
       "      <td>326.89</td>\n",
       "      <td>657.21</td>\n",
       "      <td>6,590,300</td>\n",
       "    </tr>\n",
       "    <tr>\n",
       "      <th>3</th>\n",
       "      <td>1/6/2012</td>\n",
       "      <td>328.34</td>\n",
       "      <td>328.77</td>\n",
       "      <td>323.68</td>\n",
       "      <td>648.24</td>\n",
       "      <td>5,405,900</td>\n",
       "    </tr>\n",
       "    <tr>\n",
       "      <th>4</th>\n",
       "      <td>1/9/2012</td>\n",
       "      <td>322.04</td>\n",
       "      <td>322.29</td>\n",
       "      <td>309.46</td>\n",
       "      <td>620.76</td>\n",
       "      <td>11,688,800</td>\n",
       "    </tr>\n",
       "  </tbody>\n",
       "</table>\n",
       "</div>"
      ],
      "text/plain": [
       "       Date    Open    High     Low   Close      Volume\n",
       "0  1/3/2012  325.25  332.83  324.97  663.59   7,380,500\n",
       "1  1/4/2012  331.27  333.87  329.08  666.45   5,749,400\n",
       "2  1/5/2012  329.83  330.75  326.89  657.21   6,590,300\n",
       "3  1/6/2012  328.34  328.77  323.68  648.24   5,405,900\n",
       "4  1/9/2012  322.04  322.29  309.46  620.76  11,688,800"
      ]
     },
     "execution_count": 2,
     "metadata": {},
     "output_type": "execute_result"
    }
   ],
   "source": [
    "data = pd.read_csv('Google_Stock_Price_Train.csv')\n",
    "data.head()"
   ]
  },
  {
   "cell_type": "code",
   "execution_count": 3,
   "metadata": {},
   "outputs": [],
   "source": [
    "x_train = data.iloc[:,[1,2,3,4,5]].values"
   ]
  },
  {
   "cell_type": "code",
   "execution_count": 4,
   "metadata": {},
   "outputs": [],
   "source": [
    "for i in range(len(x_train)):\n",
    "    x_train[i][3] = float(x_train[i][3].replace(',',''))\n",
    "    x_train[i][4] = float(x_train[i][4].replace(',',''))"
   ]
  },
  {
   "cell_type": "code",
   "execution_count": 5,
   "metadata": {},
   "outputs": [
    {
     "data": {
      "text/plain": [
       "array([[325.25, 332.83, 324.97, 663.59, 7380500.0],\n",
       "       [331.27, 333.87, 329.08, 666.45, 5749400.0],\n",
       "       [329.83, 330.75, 326.89, 657.21, 6590300.0],\n",
       "       ...,\n",
       "       [793.7, 794.23, 783.2, 785.05, 1153800.0],\n",
       "       [783.33, 785.93, 778.92, 782.79, 744300.0],\n",
       "       [782.75, 782.78, 770.41, 771.82, 1770000.0]], dtype=object)"
      ]
     },
     "execution_count": 5,
     "metadata": {},
     "output_type": "execute_result"
    }
   ],
   "source": [
    "x_train"
   ]
  },
  {
   "cell_type": "code",
   "execution_count": 6,
   "metadata": {},
   "outputs": [
    {
     "name": "stderr",
     "output_type": "stream",
     "text": [
      "/home/varun/.local/lib/python3.6/site-packages/sklearn/utils/validation.py:475: DataConversionWarning: Data with input dtype object was converted to float64 by StandardScaler.\n",
      "  warnings.warn(msg, DataConversionWarning)\n"
     ]
    }
   ],
   "source": [
    "scaler = StandardScaler().fit(x_train)\n",
    "x_train = scaler.transform(x_train)"
   ]
  },
  {
   "cell_type": "code",
   "execution_count": 7,
   "metadata": {},
   "outputs": [],
   "source": [
    "X_train = []\n",
    "Y_train = []\n",
    "for i in range(80,len(x_train)):\n",
    "    X_train.append(x_train[i-80:i])\n",
    "    Y_train.append(x_train[i][0])\n",
    "Y_train = np.array(Y_train)\n",
    "X_train = np.array(X_train)"
   ]
  },
  {
   "cell_type": "code",
   "execution_count": 8,
   "metadata": {},
   "outputs": [
    {
     "name": "stdout",
     "output_type": "stream",
     "text": [
      "_________________________________________________________________\n",
      "Layer (type)                 Output Shape              Param #   \n",
      "=================================================================\n",
      "lstm_1 (LSTM)                (None, 80, 200)           164800    \n",
      "_________________________________________________________________\n",
      "dropout_1 (Dropout)          (None, 80, 200)           0         \n",
      "_________________________________________________________________\n",
      "lstm_2 (LSTM)                (None, 80, 100)           120400    \n",
      "_________________________________________________________________\n",
      "dropout_2 (Dropout)          (None, 80, 100)           0         \n",
      "_________________________________________________________________\n",
      "lstm_3 (LSTM)                (None, 80, 50)            30200     \n",
      "_________________________________________________________________\n",
      "dropout_3 (Dropout)          (None, 80, 50)            0         \n",
      "_________________________________________________________________\n",
      "lstm_4 (LSTM)                (None, 25)                7600      \n",
      "_________________________________________________________________\n",
      "dropout_4 (Dropout)          (None, 25)                0         \n",
      "_________________________________________________________________\n",
      "dense_1 (Dense)              (None, 1)                 26        \n",
      "=================================================================\n",
      "Total params: 323,026\n",
      "Trainable params: 323,026\n",
      "Non-trainable params: 0\n",
      "_________________________________________________________________\n",
      "Epoch 1/100\n",
      "1178/1178 [==============================] - 9s 8ms/step - loss: 0.1242\n",
      "Epoch 2/100\n",
      "1178/1178 [==============================] - 10s 8ms/step - loss: 0.0387\n",
      "Epoch 3/100\n",
      "1178/1178 [==============================] - 11s 9ms/step - loss: 0.0333\n",
      "Epoch 4/100\n",
      "1178/1178 [==============================] - 11s 9ms/step - loss: 0.0306\n",
      "Epoch 5/100\n",
      "1178/1178 [==============================] - 11s 10ms/step - loss: 0.0260\n",
      "Epoch 6/100\n",
      "1178/1178 [==============================] - 13s 11ms/step - loss: 0.0301\n",
      "Epoch 7/100\n",
      "1178/1178 [==============================] - 13s 11ms/step - loss: 0.0254\n",
      "Epoch 8/100\n",
      "1178/1178 [==============================] - 12s 10ms/step - loss: 0.0254\n",
      "Epoch 9/100\n",
      "1178/1178 [==============================] - 11s 9ms/step - loss: 0.0298\n",
      "Epoch 10/100\n",
      "1178/1178 [==============================] - 11s 9ms/step - loss: 0.0255\n",
      "Epoch 11/100\n",
      "1178/1178 [==============================] - 10s 9ms/step - loss: 0.0242\n",
      "Epoch 12/100\n",
      "1178/1178 [==============================] - 10s 9ms/step - loss: 0.0206\n",
      "Epoch 13/100\n",
      "1178/1178 [==============================] - 10s 9ms/step - loss: 0.0233\n",
      "Epoch 14/100\n",
      "1178/1178 [==============================] - 10s 9ms/step - loss: 0.0230\n",
      "Epoch 15/100\n",
      "1178/1178 [==============================] - 11s 9ms/step - loss: 0.0245\n",
      "Epoch 16/100\n",
      "1178/1178 [==============================] - 14s 12ms/step - loss: 0.0218\n",
      "Epoch 17/100\n",
      "1178/1178 [==============================] - 14s 12ms/step - loss: 0.0199\n",
      "Epoch 18/100\n",
      "1178/1178 [==============================] - 13s 11ms/step - loss: 0.0209\n",
      "Epoch 19/100\n",
      "1178/1178 [==============================] - 13s 11ms/step - loss: 0.0204\n",
      "Epoch 20/100\n",
      "1178/1178 [==============================] - 12s 10ms/step - loss: 0.0234\n",
      "Epoch 21/100\n",
      "1178/1178 [==============================] - 13s 11ms/step - loss: 0.0198\n",
      "Epoch 22/100\n",
      "1178/1178 [==============================] - 11s 10ms/step - loss: 0.0215\n",
      "Epoch 23/100\n",
      "1178/1178 [==============================] - 12s 10ms/step - loss: 0.0187\n",
      "Epoch 24/100\n",
      "1178/1178 [==============================] - 14s 12ms/step - loss: 0.0193\n",
      "Epoch 25/100\n",
      "1178/1178 [==============================] - 13s 11ms/step - loss: 0.0195\n",
      "Epoch 26/100\n",
      "1178/1178 [==============================] - 12s 11ms/step - loss: 0.0179\n",
      "Epoch 27/100\n",
      "1178/1178 [==============================] - 14s 12ms/step - loss: 0.0186\n",
      "Epoch 28/100\n",
      "1178/1178 [==============================] - 12s 10ms/step - loss: 0.0175\n",
      "Epoch 29/100\n",
      "1178/1178 [==============================] - 11s 10ms/step - loss: 0.0178\n",
      "Epoch 30/100\n",
      "1178/1178 [==============================] - 14s 12ms/step - loss: 0.0171\n",
      "Epoch 31/100\n",
      "1178/1178 [==============================] - 14s 12ms/step - loss: 0.0177\n",
      "Epoch 32/100\n",
      "1178/1178 [==============================] - 13s 11ms/step - loss: 0.0165\n",
      "Epoch 33/100\n",
      "1178/1178 [==============================] - 11s 10ms/step - loss: 0.0168\n",
      "Epoch 34/100\n",
      "1178/1178 [==============================] - 13s 11ms/step - loss: 0.0201\n",
      "Epoch 35/100\n",
      "1178/1178 [==============================] - 11s 9ms/step - loss: 0.0197\n",
      "Epoch 36/100\n",
      "1178/1178 [==============================] - 10s 9ms/step - loss: 0.0170\n",
      "Epoch 37/100\n",
      "1178/1178 [==============================] - 10s 9ms/step - loss: 0.0173\n",
      "Epoch 38/100\n",
      "1178/1178 [==============================] - 10s 9ms/step - loss: 0.0185\n",
      "Epoch 39/100\n",
      "1178/1178 [==============================] - 10s 9ms/step - loss: 0.0160\n",
      "Epoch 40/100\n",
      "1178/1178 [==============================] - 10s 9ms/step - loss: 0.0176\n",
      "Epoch 41/100\n",
      "1178/1178 [==============================] - 10s 9ms/step - loss: 0.0175\n",
      "Epoch 42/100\n",
      "1178/1178 [==============================] - 10s 9ms/step - loss: 0.0161\n",
      "Epoch 43/100\n",
      "1178/1178 [==============================] - 10s 9ms/step - loss: 0.0168\n",
      "Epoch 44/100\n",
      "1178/1178 [==============================] - 10s 9ms/step - loss: 0.0162\n",
      "Epoch 45/100\n",
      "1178/1178 [==============================] - 10s 9ms/step - loss: 0.0159\n",
      "Epoch 46/100\n",
      "1178/1178 [==============================] - 10s 9ms/step - loss: 0.0164\n",
      "Epoch 47/100\n",
      "1178/1178 [==============================] - 10s 9ms/step - loss: 0.0166\n",
      "Epoch 48/100\n",
      "1178/1178 [==============================] - 10s 9ms/step - loss: 0.0172\n",
      "Epoch 49/100\n",
      "1178/1178 [==============================] - 10s 9ms/step - loss: 0.0184\n",
      "Epoch 50/100\n",
      "1178/1178 [==============================] - 10s 9ms/step - loss: 0.0156\n",
      "Epoch 51/100\n",
      "1178/1178 [==============================] - 10s 9ms/step - loss: 0.0164\n",
      "Epoch 52/100\n",
      "1178/1178 [==============================] - 10s 9ms/step - loss: 0.0166\n",
      "Epoch 53/100\n",
      "1178/1178 [==============================] - 11s 9ms/step - loss: 0.0137\n",
      "Epoch 54/100\n",
      "1178/1178 [==============================] - 10s 9ms/step - loss: 0.0150\n",
      "Epoch 55/100\n",
      "1178/1178 [==============================] - 10s 9ms/step - loss: 0.0156\n",
      "Epoch 56/100\n",
      "1178/1178 [==============================] - 10s 9ms/step - loss: 0.0155\n",
      "Epoch 57/100\n",
      "1178/1178 [==============================] - 10s 9ms/step - loss: 0.0155\n",
      "Epoch 58/100\n",
      "1178/1178 [==============================] - 10s 9ms/step - loss: 0.0155\n",
      "Epoch 59/100\n",
      "1178/1178 [==============================] - 10s 9ms/step - loss: 0.0145\n",
      "Epoch 60/100\n",
      "1178/1178 [==============================] - 10s 9ms/step - loss: 0.0138\n",
      "Epoch 61/100\n",
      "1178/1178 [==============================] - 10s 9ms/step - loss: 0.0149\n",
      "Epoch 62/100\n",
      "1178/1178 [==============================] - 10s 9ms/step - loss: 0.0155\n",
      "Epoch 63/100\n",
      "1178/1178 [==============================] - 10s 9ms/step - loss: 0.0140\n",
      "Epoch 64/100\n",
      "1178/1178 [==============================] - 10s 9ms/step - loss: 0.0147\n",
      "Epoch 65/100\n",
      "1178/1178 [==============================] - 10s 9ms/step - loss: 0.0143\n",
      "Epoch 66/100\n",
      "1178/1178 [==============================] - 10s 9ms/step - loss: 0.0142\n",
      "Epoch 67/100\n",
      "1178/1178 [==============================] - 10s 9ms/step - loss: 0.0144\n",
      "Epoch 68/100\n",
      "1178/1178 [==============================] - 10s 9ms/step - loss: 0.0137\n",
      "Epoch 69/100\n",
      "1178/1178 [==============================] - 10s 9ms/step - loss: 0.0140\n",
      "Epoch 70/100\n",
      "1178/1178 [==============================] - 11s 9ms/step - loss: 0.0161\n",
      "Epoch 71/100\n",
      "1178/1178 [==============================] - 11s 9ms/step - loss: 0.0136\n",
      "Epoch 72/100\n",
      "1178/1178 [==============================] - 11s 9ms/step - loss: 0.0135\n",
      "Epoch 73/100\n",
      "1178/1178 [==============================] - 11s 10ms/step - loss: 0.0141\n",
      "Epoch 74/100\n",
      "1178/1178 [==============================] - 11s 9ms/step - loss: 0.0146\n",
      "Epoch 75/100\n",
      "1178/1178 [==============================] - 11s 10ms/step - loss: 0.0152\n",
      "Epoch 76/100\n",
      "1178/1178 [==============================] - 11s 10ms/step - loss: 0.0135\n",
      "Epoch 77/100\n",
      "1178/1178 [==============================] - 11s 9ms/step - loss: 0.0142\n",
      "Epoch 78/100\n"
     ]
    },
    {
     "name": "stdout",
     "output_type": "stream",
     "text": [
      "1178/1178 [==============================] - 11s 10ms/step - loss: 0.0137\n",
      "Epoch 79/100\n",
      "1178/1178 [==============================] - 11s 9ms/step - loss: 0.0143\n",
      "Epoch 80/100\n",
      "1178/1178 [==============================] - 11s 9ms/step - loss: 0.0128\n",
      "Epoch 81/100\n",
      "1178/1178 [==============================] - 10s 9ms/step - loss: 0.0133\n",
      "Epoch 82/100\n",
      "1178/1178 [==============================] - 11s 10ms/step - loss: 0.0146\n",
      "Epoch 83/100\n",
      "1178/1178 [==============================] - 13s 11ms/step - loss: 0.0151\n",
      "Epoch 84/100\n",
      "1178/1178 [==============================] - 12s 10ms/step - loss: 0.0144\n",
      "Epoch 85/100\n",
      "1178/1178 [==============================] - 12s 10ms/step - loss: 0.0136\n",
      "Epoch 86/100\n",
      "1178/1178 [==============================] - 12s 10ms/step - loss: 0.0139\n",
      "Epoch 87/100\n",
      "1178/1178 [==============================] - 10s 9ms/step - loss: 0.0149\n",
      "Epoch 88/100\n",
      "1178/1178 [==============================] - 11s 9ms/step - loss: 0.0131\n",
      "Epoch 89/100\n",
      "1178/1178 [==============================] - 11s 9ms/step - loss: 0.0140\n",
      "Epoch 90/100\n",
      "1178/1178 [==============================] - 10s 9ms/step - loss: 0.0155\n",
      "Epoch 91/100\n",
      "1178/1178 [==============================] - 11s 9ms/step - loss: 0.0125\n",
      "Epoch 92/100\n",
      "1178/1178 [==============================] - 11s 9ms/step - loss: 0.0128\n",
      "Epoch 93/100\n",
      "1178/1178 [==============================] - 11s 9ms/step - loss: 0.0140\n",
      "Epoch 94/100\n",
      "1178/1178 [==============================] - 10s 9ms/step - loss: 0.0148\n",
      "Epoch 95/100\n",
      "1178/1178 [==============================] - 10s 9ms/step - loss: 0.0135\n",
      "Epoch 96/100\n",
      "1178/1178 [==============================] - 10s 9ms/step - loss: 0.0128\n",
      "Epoch 97/100\n",
      "1178/1178 [==============================] - 11s 9ms/step - loss: 0.0131\n",
      "Epoch 98/100\n",
      "1178/1178 [==============================] - 10s 9ms/step - loss: 0.0128\n",
      "Epoch 99/100\n",
      "1178/1178 [==============================] - 11s 9ms/step - loss: 0.0148\n",
      "Epoch 100/100\n",
      "1178/1178 [==============================] - 10s 9ms/step - loss: 0.0148\n"
     ]
    },
    {
     "data": {
      "text/plain": [
       "<keras.callbacks.History at 0x7facdd620ac8>"
      ]
     },
     "execution_count": 8,
     "metadata": {},
     "output_type": "execute_result"
    }
   ],
   "source": [
    "model = Sequential()\n",
    "\n",
    "model.add(LSTM(units = 200, return_sequences = True, input_shape = (80, 5))) #timestep and features\n",
    "model.add(Dropout(0.2))\n",
    "\n",
    "\n",
    "model.add(LSTM(units = 100, return_sequences = True))\n",
    "model.add(Dropout(0.2))\n",
    "\n",
    "\n",
    "model.add(LSTM(units = 50, return_sequences = True))\n",
    "model.add(Dropout(0.2))\n",
    "\n",
    "\n",
    "model.add(LSTM(units = 25))\n",
    "model.add(Dropout(0.2))\n",
    "\n",
    "\n",
    "model.add(Dense(units = 1))\n",
    "\n",
    "\n",
    "model.compile(optimizer = 'adam', loss = 'mean_squared_error')\n",
    "model.summary()\n",
    "\n",
    "model.fit(X_train, Y_train, epochs = 100, batch_size = 32)"
   ]
  },
  {
   "cell_type": "code",
   "execution_count": 9,
   "metadata": {},
   "outputs": [],
   "source": [
    "model.save('my_model_5_features.h5')"
   ]
  },
  {
   "cell_type": "code",
   "execution_count": 17,
   "metadata": {},
   "outputs": [],
   "source": [
    "from keras.models import load_model\n",
    "model = load_model('my_model_5_features.h5')"
   ]
  },
  {
   "cell_type": "code",
   "execution_count": 18,
   "metadata": {},
   "outputs": [],
   "source": [
    "test_data = pd.read_csv('Google_Stock_Price_Test.csv')\n",
    "test_data = test_data.iloc[:,[1,2,3,4,5]].values\n",
    "\n",
    "for i in range(len(test_data)):\n",
    "    test_data[i][4] = float(test_data[i][4].replace(',',''))\n",
    "\n",
    "train_data = pd.read_csv('Google_Stock_Price_Train.csv')\n",
    "train_data = train_data.iloc[:,[1,2,3,4,5]].values\n",
    "\n",
    "for i in range(len(train_data)):\n",
    "    train_data[i][3] = float(train_data[i][3].replace(',',''))\n",
    "    train_data[i][4] = float(train_data[i][4].replace(',',''))"
   ]
  },
  {
   "cell_type": "code",
   "execution_count": 19,
   "metadata": {},
   "outputs": [],
   "source": [
    "total_dataset = np.concatenate((train_data,test_data), axis = 0)"
   ]
  },
  {
   "cell_type": "code",
   "execution_count": 20,
   "metadata": {},
   "outputs": [],
   "source": [
    "test_sample = total_dataset[len(total_dataset) - len(test_data) - 80:]"
   ]
  },
  {
   "cell_type": "code",
   "execution_count": 21,
   "metadata": {},
   "outputs": [
    {
     "name": "stderr",
     "output_type": "stream",
     "text": [
      "/home/varun/.local/lib/python3.6/site-packages/sklearn/utils/validation.py:475: DataConversionWarning: Data with input dtype object was converted to float64 by StandardScaler.\n",
      "  warnings.warn(msg, DataConversionWarning)\n"
     ]
    }
   ],
   "source": [
    "test_sample = scaler.transform(test_sample)"
   ]
  },
  {
   "cell_type": "code",
   "execution_count": 22,
   "metadata": {},
   "outputs": [],
   "source": [
    "X_test = []\n",
    "for i in range(80, 100):\n",
    "    X_test.append(test_sample[i-80:i])\n",
    "X_test = np.array(X_test)"
   ]
  },
  {
   "cell_type": "code",
   "execution_count": 23,
   "metadata": {},
   "outputs": [],
   "source": [
    "predicted_stock_price = model.predict(X_test)\n",
    "actual_stock_price = test_sample[80:]"
   ]
  },
  {
   "cell_type": "code",
   "execution_count": 24,
   "metadata": {},
   "outputs": [],
   "source": [
    "actual_price_scaled = []\n",
    "for i in actual_stock_price:\n",
    "    actual_price_scaled.append(i[0])"
   ]
  },
  {
   "cell_type": "code",
   "execution_count": 28,
   "metadata": {},
   "outputs": [
    {
     "data": {
      "image/png": "[encoded data removed]",
      "text/plain": [
       "<Figure size 432x288 with 1 Axes>"
      ]
     },
     "metadata": {},
     "output_type": "display_data"
    }
   ],
   "source": [
    "plt.plot(actual_price_scaled, color = 'red', label = 'Real Stock Price')\n",
    "plt.plot(predicted_stock_price, color = 'blue', label = 'Predicted Stock Price')\n",
    "plt.title('Stock Price Prediction')\n",
    "plt.xlabel('Time')\n",
    "plt.ylabel('Stock Price')\n",
    "plt.legend()\n",
    "plt.show()"
   ]
  },
  {
   "cell_type": "code",
   "execution_count": null,
   "metadata": {},
   "outputs": [],
   "source": []
  }
 ],
 "metadata": {
  "kernelspec": {
   "display_name": "Python 3",
   "language": "python",
   "name": "python3"
  },
  "language_info": {
   "codemirror_mode": {
    "name": "ipython",
    "version": 3
   },
   "file_extension": ".py",
   "mimetype": "text/x-python",
   "name": "python",
   "nbconvert_exporter": "python",
   "pygments_lexer": "ipython3",
   "version": "3.6.5"
  }
 },
 "nbformat": 4,
 "nbformat_minor": 2
}
