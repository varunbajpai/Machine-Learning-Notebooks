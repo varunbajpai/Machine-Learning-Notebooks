{
 "cells": [
  {
   "cell_type": "code",
   "execution_count": 19,
   "metadata": {},
   "outputs": [],
   "source": [
    "from numpy import array\n",
    "from keras.models import Sequential\n",
    "from keras.layers import Dense\n",
    "from keras.layers import LSTM\n",
    "from keras.layers import TimeDistributed\n",
    "import numpy as np"
   ]
  },
  {
   "cell_type": "code",
   "execution_count": 2,
   "metadata": {},
   "outputs": [],
   "source": [
    "X_train = array([[[0.],[0.2],[0.4],[0.8]]])\n",
    "Y_train = X_train"
   ]
  },
  {
   "cell_type": "code",
   "execution_count": 5,
   "metadata": {},
   "outputs": [
    {
     "data": {
      "text/plain": [
       "((1, 4, 1), (1, 4, 1))"
      ]
     },
     "execution_count": 5,
     "metadata": {},
     "output_type": "execute_result"
    }
   ],
   "source": [
    "X_train.shape, Y_train.shape"
   ]
  },
  {
   "cell_type": "code",
   "execution_count": 8,
   "metadata": {},
   "outputs": [],
   "source": [
    "model = Sequential()\n",
    "model.add(LSTM(10, input_shape = (4,1), return_sequences = True))\n",
    "model.add(LSTM(5, return_sequences=True))\n",
    "model.add(TimeDistributed(Dense(1)))\n",
    "model.compile(loss='mean_squared_error', optimizer = 'adam')"
   ]
  },
  {
   "cell_type": "code",
   "execution_count": 9,
   "metadata": {},
   "outputs": [
    {
     "name": "stdout",
     "output_type": "stream",
     "text": [
      "_________________________________________________________________\n",
      "Layer (type)                 Output Shape              Param #   \n",
      "=================================================================\n",
      "lstm_1 (LSTM)                (None, 4, 10)             480       \n",
      "_________________________________________________________________\n",
      "lstm_2 (LSTM)                (None, 4, 5)              320       \n",
      "_________________________________________________________________\n",
      "time_distributed_1 (TimeDist (None, 4, 1)              6         \n",
      "=================================================================\n",
      "Total params: 806\n",
      "Trainable params: 806\n",
      "Non-trainable params: 0\n",
      "_________________________________________________________________\n"
     ]
    }
   ],
   "source": [
    "model.summary()"
   ]
  },
  {
   "cell_type": "code",
   "execution_count": 17,
   "metadata": {},
   "outputs": [
    {
     "name": "stdout",
     "output_type": "stream",
     "text": [
      "Epoch 1/100\n",
      "1/1 [==============================] - 0s 10ms/step - loss: 3.6165e-11\n",
      "Epoch 2/100\n",
      "1/1 [==============================] - 0s 9ms/step - loss: 4.1194e-11\n",
      "Epoch 3/100\n",
      "1/1 [==============================] - 0s 10ms/step - loss: 4.7352e-11\n",
      "Epoch 4/100\n",
      "1/1 [==============================] - 0s 9ms/step - loss: 5.5163e-11\n",
      "Epoch 5/100\n",
      "1/1 [==============================] - 0s 9ms/step - loss: 6.5096e-11\n",
      "Epoch 6/100\n",
      "1/1 [==============================] - 0s 9ms/step - loss: 7.9816e-11\n",
      "Epoch 7/100\n",
      "1/1 [==============================] - 0s 9ms/step - loss: 1.0370e-10\n",
      "Epoch 8/100\n",
      "1/1 [==============================] - 0s 9ms/step - loss: 1.3724e-10\n",
      "Epoch 9/100\n",
      "1/1 [==============================] - 0s 8ms/step - loss: 1.8076e-10\n",
      "Epoch 10/100\n",
      "1/1 [==============================] - 0s 9ms/step - loss: 2.4100e-10\n",
      "Epoch 11/100\n",
      "1/1 [==============================] - 0s 8ms/step - loss: 3.2805e-10\n",
      "Epoch 12/100\n",
      "1/1 [==============================] - 0s 9ms/step - loss: 4.4970e-10\n",
      "Epoch 13/100\n",
      "1/1 [==============================] - 0s 8ms/step - loss: 6.1673e-10\n",
      "Epoch 14/100\n",
      "1/1 [==============================] - 0s 8ms/step - loss: 8.5481e-10\n",
      "Epoch 15/100\n",
      "1/1 [==============================] - 0s 8ms/step - loss: 1.2012e-09\n",
      "Epoch 16/100\n",
      "1/1 [==============================] - 0s 9ms/step - loss: 1.7043e-09\n",
      "Epoch 17/100\n",
      "1/1 [==============================] - 0s 7ms/step - loss: 2.4395e-09\n",
      "Epoch 18/100\n",
      "1/1 [==============================] - 0s 8ms/step - loss: 3.5129e-09\n",
      "Epoch 19/100\n",
      "1/1 [==============================] - 0s 8ms/step - loss: 5.0896e-09\n",
      "Epoch 20/100\n",
      "1/1 [==============================] - 0s 8ms/step - loss: 7.4054e-09\n",
      "Epoch 21/100\n",
      "1/1 [==============================] - 0s 8ms/step - loss: 1.0850e-08\n",
      "Epoch 22/100\n",
      "1/1 [==============================] - 0s 8ms/step - loss: 1.5980e-08\n",
      "Epoch 23/100\n",
      "1/1 [==============================] - 0s 8ms/step - loss: 2.3731e-08\n",
      "Epoch 24/100\n",
      "1/1 [==============================] - 0s 9ms/step - loss: 3.5498e-08\n",
      "Epoch 25/100\n",
      "1/1 [==============================] - 0s 9ms/step - loss: 5.3653e-08\n",
      "Epoch 26/100\n",
      "1/1 [==============================] - 0s 8ms/step - loss: 8.1536e-08\n",
      "Epoch 27/100\n",
      "1/1 [==============================] - 0s 9ms/step - loss: 1.2513e-07\n",
      "Epoch 28/100\n",
      "1/1 [==============================] - 0s 9ms/step - loss: 1.9246e-07\n",
      "Epoch 29/100\n",
      "1/1 [==============================] - 0s 9ms/step - loss: 2.9859e-07\n",
      "Epoch 30/100\n",
      "1/1 [==============================] - 0s 10ms/step - loss: 4.6196e-07\n",
      "Epoch 31/100\n",
      "1/1 [==============================] - 0s 9ms/step - loss: 7.1991e-07\n",
      "Epoch 32/100\n",
      "1/1 [==============================] - 0s 9ms/step - loss: 1.1087e-06\n",
      "Epoch 33/100\n",
      "1/1 [==============================] - 0s 9ms/step - loss: 1.7086e-06\n",
      "Epoch 34/100\n",
      "1/1 [==============================] - 0s 10ms/step - loss: 2.5497e-06\n",
      "Epoch 35/100\n",
      "1/1 [==============================] - 0s 9ms/step - loss: 3.7409e-06\n",
      "Epoch 36/100\n",
      "1/1 [==============================] - 0s 10ms/step - loss: 5.0969e-06\n",
      "Epoch 37/100\n",
      "1/1 [==============================] - 0s 10ms/step - loss: 6.5350e-06\n",
      "Epoch 38/100\n",
      "1/1 [==============================] - 0s 9ms/step - loss: 7.1779e-06\n",
      "Epoch 39/100\n",
      "1/1 [==============================] - 0s 9ms/step - loss: 6.7504e-06\n",
      "Epoch 40/100\n",
      "1/1 [==============================] - 0s 10ms/step - loss: 4.6932e-06\n",
      "Epoch 41/100\n",
      "1/1 [==============================] - 0s 9ms/step - loss: 2.1395e-06\n",
      "Epoch 42/100\n",
      "1/1 [==============================] - 0s 10ms/step - loss: 3.1818e-07\n",
      "Epoch 43/100\n",
      "1/1 [==============================] - 0s 9ms/step - loss: 1.2048e-07\n",
      "Epoch 44/100\n",
      "1/1 [==============================] - 0s 9ms/step - loss: 1.2180e-06\n",
      "Epoch 45/100\n",
      "1/1 [==============================] - 0s 10ms/step - loss: 2.4826e-06\n",
      "Epoch 46/100\n",
      "1/1 [==============================] - 0s 9ms/step - loss: 2.9188e-06\n",
      "Epoch 47/100\n",
      "1/1 [==============================] - 0s 10ms/step - loss: 2.1343e-06\n",
      "Epoch 48/100\n",
      "1/1 [==============================] - 0s 9ms/step - loss: 8.6524e-07\n",
      "Epoch 49/100\n",
      "1/1 [==============================] - 0s 10ms/step - loss: 5.7602e-08\n",
      "Epoch 50/100\n",
      "1/1 [==============================] - 0s 9ms/step - loss: 1.9184e-07\n",
      "Epoch 51/100\n",
      "1/1 [==============================] - 0s 9ms/step - loss: 8.9930e-07\n",
      "Epoch 52/100\n",
      "1/1 [==============================] - 0s 9ms/step - loss: 1.4106e-06\n",
      "Epoch 53/100\n",
      "1/1 [==============================] - 0s 10ms/step - loss: 1.2875e-06\n",
      "Epoch 54/100\n",
      "1/1 [==============================] - 0s 9ms/step - loss: 6.5769e-07\n",
      "Epoch 55/100\n",
      "1/1 [==============================] - 0s 10ms/step - loss: 1.0729e-07\n",
      "Epoch 56/100\n",
      "1/1 [==============================] - 0s 9ms/step - loss: 3.5613e-08\n",
      "Epoch 57/100\n",
      "1/1 [==============================] - 0s 9ms/step - loss: 3.6783e-07\n",
      "Epoch 58/100\n",
      "1/1 [==============================] - 0s 8ms/step - loss: 7.0449e-07\n",
      "Epoch 59/100\n",
      "1/1 [==============================] - 0s 9ms/step - loss: 7.1062e-07\n",
      "Epoch 60/100\n",
      "1/1 [==============================] - 0s 9ms/step - loss: 4.1563e-07\n",
      "Epoch 61/100\n",
      "1/1 [==============================] - 0s 8ms/step - loss: 9.4034e-08\n",
      "Epoch 62/100\n",
      "1/1 [==============================] - 0s 8ms/step - loss: 5.7024e-09\n",
      "Epoch 63/100\n",
      "1/1 [==============================] - 0s 8ms/step - loss: 1.5769e-07\n",
      "Epoch 64/100\n",
      "1/1 [==============================] - 0s 9ms/step - loss: 3.4993e-07\n",
      "Epoch 65/100\n",
      "1/1 [==============================] - 0s 9ms/step - loss: 3.9144e-07\n",
      "Epoch 66/100\n",
      "1/1 [==============================] - 0s 9ms/step - loss: 2.5333e-07\n",
      "Epoch 67/100\n",
      "1/1 [==============================] - 0s 9ms/step - loss: 7.4564e-08\n",
      "Epoch 68/100\n",
      "1/1 [==============================] - 0s 8ms/step - loss: 3.3668e-10\n",
      "Epoch 69/100\n",
      "1/1 [==============================] - 0s 9ms/step - loss: 6.1362e-08\n",
      "Epoch 70/100\n",
      "1/1 [==============================] - 0s 9ms/step - loss: 1.6851e-07\n",
      "Epoch 71/100\n",
      "1/1 [==============================] - 0s 9ms/step - loss: 2.1106e-07\n",
      "Epoch 72/100\n",
      "1/1 [==============================] - 0s 9ms/step - loss: 1.5706e-07\n",
      "Epoch 73/100\n",
      "1/1 [==============================] - 0s 9ms/step - loss: 6.0456e-08\n",
      "Epoch 74/100\n",
      "1/1 [==============================] - 0s 9ms/step - loss: 3.0554e-09\n",
      "Epoch 75/100\n",
      "1/1 [==============================] - 0s 9ms/step - loss: 1.8024e-08\n",
      "Epoch 76/100\n",
      "1/1 [==============================] - 0s 9ms/step - loss: 7.3085e-08\n",
      "Epoch 77/100\n",
      "1/1 [==============================] - 0s 9ms/step - loss: 1.1020e-07\n",
      "Epoch 78/100\n",
      "1/1 [==============================] - 0s 9ms/step - loss: 9.7028e-08\n",
      "Epoch 79/100\n",
      "1/1 [==============================] - 0s 9ms/step - loss: 4.9785e-08\n",
      "Epoch 80/100\n",
      "1/1 [==============================] - 0s 9ms/step - loss: 8.7904e-09\n",
      "Epoch 81/100\n",
      "1/1 [==============================] - 0s 9ms/step - loss: 2.2957e-09\n",
      "Epoch 82/100\n",
      "1/1 [==============================] - 0s 9ms/step - loss: 2.5653e-08\n",
      "Epoch 83/100\n",
      "1/1 [==============================] - 0s 9ms/step - loss: 5.1748e-08\n",
      "Epoch 84/100\n",
      "1/1 [==============================] - 0s 9ms/step - loss: 5.7162e-08\n",
      "Epoch 85/100\n",
      "1/1 [==============================] - 0s 9ms/step - loss: 3.9099e-08\n",
      "Epoch 86/100\n",
      "1/1 [==============================] - 0s 9ms/step - loss: 1.4045e-08\n",
      "Epoch 87/100\n",
      "1/1 [==============================] - 0s 10ms/step - loss: 6.2047e-10\n",
      "Epoch 88/100\n",
      "1/1 [==============================] - 0s 9ms/step - loss: 5.2338e-09\n",
      "Epoch 89/100\n",
      "1/1 [==============================] - 0s 9ms/step - loss: 1.9491e-08\n",
      "Epoch 90/100\n",
      "1/1 [==============================] - 0s 9ms/step - loss: 2.9455e-08\n",
      "Epoch 91/100\n",
      "1/1 [==============================] - 0s 10ms/step - loss: 2.7388e-08\n",
      "Epoch 92/100\n",
      "1/1 [==============================] - 0s 9ms/step - loss: 1.5925e-08\n",
      "Epoch 93/100\n",
      "1/1 [==============================] - 0s 10ms/step - loss: 4.3175e-09\n",
      "Epoch 94/100\n",
      "1/1 [==============================] - 0s 10ms/step - loss: 1.4843e-10\n",
      "Epoch 95/100\n",
      "1/1 [==============================] - 0s 10ms/step - loss: 4.2224e-09\n",
      "Epoch 96/100\n",
      "1/1 [==============================] - 0s 9ms/step - loss: 1.1328e-08\n",
      "Epoch 97/100\n",
      "1/1 [==============================] - 0s 9ms/step - loss: 1.5150e-08\n",
      "Epoch 98/100\n",
      "1/1 [==============================] - 0s 9ms/step - loss: 1.3083e-08\n",
      "Epoch 99/100\n",
      "1/1 [==============================] - 0s 8ms/step - loss: 7.1673e-09\n"
     ]
    },
    {
     "name": "stdout",
     "output_type": "stream",
     "text": [
      "Epoch 100/100\n",
      "1/1 [==============================] - 0s 8ms/step - loss: 1.7942e-09\n"
     ]
    },
    {
     "data": {
      "text/plain": [
       "<keras.callbacks.History at 0x1370b2d30>"
      ]
     },
     "execution_count": 17,
     "metadata": {},
     "output_type": "execute_result"
    }
   ],
   "source": [
    "model.fit(X_train, Y_train, epochs = 100)"
   ]
  },
  {
   "cell_type": "code",
   "execution_count": 21,
   "metadata": {},
   "outputs": [
    {
     "data": {
      "text/plain": [
       "array([[[0. ],\n",
       "        [0.2],\n",
       "        [0.4],\n",
       "        [0.8]]], dtype=float32)"
      ]
     },
     "execution_count": 21,
     "metadata": {},
     "output_type": "execute_result"
    }
   ],
   "source": [
    "np.around(model.predict(X_train),decimals=1)"
   ]
  },
  {
   "cell_type": "code",
   "execution_count": null,
   "metadata": {},
   "outputs": [],
   "source": []
  }
 ],
 "metadata": {
  "kernelspec": {
   "display_name": "Python 3",
   "language": "python",
   "name": "python3"
  },
  "language_info": {
   "codemirror_mode": {
    "name": "ipython",
    "version": 3
   },
   "file_extension": ".py",
   "mimetype": "text/x-python",
   "name": "python",
   "nbconvert_exporter": "python",
   "pygments_lexer": "ipython3",
   "version": "3.5.4"
  }
 },
 "nbformat": 4,
 "nbformat_minor": 2
}
