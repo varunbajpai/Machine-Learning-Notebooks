{
 "cells": [
  {
   "cell_type": "markdown",
   "metadata": {},
   "source": [
    "This is a Simple ANN Implementaion first step includes loading all the libraries as shown below"
   ]
  },
  {
   "cell_type": "code",
   "execution_count": 12,
   "metadata": {},
   "outputs": [],
   "source": [
    "from keras.models import Sequential        # This will be used to add Layers In the Model\n",
    "from keras.layers import Dense             # This will be used to describe all the layers Number of Nodes etc \n",
    "import pandas as pd                        # This is used to load the data which is in the form of csv\n",
    "from sklearn.metrics import confusion_matrix # In order to know the accuracy of our predictions"
   ]
  },
  {
   "cell_type": "markdown",
   "metadata": {},
   "source": [
    "This Step is the complete Data Pre-Processing Step which includes Loading the data into the system, Followed by Data Polishing and Pre-Processing, Which includes OneHot encoding of string type fields, and also Feature Scaling and Test Train Split, Note that Y is not feature Scaled but X is feature Scaled"
   ]
  },
  {
   "cell_type": "code",
   "execution_count": 14,
   "metadata": {},
   "outputs": [
    {
     "name": "stdout",
     "output_type": "stream",
     "text": [
      "[[619 'France' 'Female' ... 1 1 101348.88]\n",
      " [608 'Spain' 'Female' ... 0 1 112542.58]\n",
      " [502 'France' 'Female' ... 1 0 113931.57]\n",
      " ...\n",
      " [709 'France' 'Female' ... 0 1 42085.58]\n",
      " [772 'Germany' 'Male' ... 1 0 92888.52]\n",
      " [792 'France' 'Female' ... 1 0 38190.78]]\n"
     ]
    }
   ],
   "source": [
    "dataset = pd.read_csv('Churn_Modelling.csv')  \n",
    "X = dataset.iloc[:, 3:13].values\n",
    "y = dataset.iloc[:, 13].values\n",
    "\n",
    "# One Hot Encoding\n",
    "from sklearn.preprocessing import LabelEncoder, OneHotEncoder\n",
    "labelencoder_X_1 = LabelEncoder()\n",
    "X[:, 1] = labelencoder_X_1.fit_transform(X[:, 1])\n",
    "labelencoder_X_2 = LabelEncoder()\n",
    "X[:, 2] = labelencoder_X_2.fit_transform(X[:, 2])\n",
    "onehotencoder = OneHotEncoder(categorical_features = [1])\n",
    "X = onehotencoder.fit_transform(X).toarray()\n",
    "X = X[:, 1:]\n",
    "\n",
    "# Splitting the dataset into the Training set and Test set\n",
    "from sklearn.model_selection import train_test_split\n",
    "X_train, X_test, y_train, y_test = train_test_split(X, y, test_size = 0.2, random_state = 0)\n",
    "\n",
    "# Feature Scaling\n",
    "from sklearn.preprocessing import StandardScaler\n",
    "sc = StandardScaler()\n",
    "X_train = sc.fit_transform(X_train)\n",
    "X_test = sc.transform(X_test)"
   ]
  },
  {
   "cell_type": "code",
   "execution_count": 24,
   "metadata": {},
   "outputs": [
    {
     "name": "stdout",
     "output_type": "stream",
     "text": [
      "Epoch 1/10\n",
      "8000/8000 [==============================] - 1s 70us/step - loss: 2.2613 - acc: 0.6016\n",
      "Epoch 2/10\n",
      "8000/8000 [==============================] - 0s 28us/step - loss: 1.4223 - acc: 0.7351\n",
      "Epoch 3/10\n",
      "8000/8000 [==============================] - 0s 27us/step - loss: 1.0645 - acc: 0.7631\n",
      "Epoch 4/10\n",
      "8000/8000 [==============================] - 0s 27us/step - loss: 0.7633 - acc: 0.7781\n",
      "Epoch 5/10\n",
      "8000/8000 [==============================] - 0s 32us/step - loss: 0.6078 - acc: 0.7858\n",
      "Epoch 6/10\n",
      "8000/8000 [==============================] - 0s 32us/step - loss: 0.5421 - acc: 0.7955\n",
      "Epoch 7/10\n",
      "8000/8000 [==============================] - 0s 30us/step - loss: 0.5131 - acc: 0.7983\n",
      "Epoch 8/10\n",
      "8000/8000 [==============================] - 0s 32us/step - loss: 0.4959 - acc: 0.8016\n",
      "Epoch 9/10\n",
      "8000/8000 [==============================] - 0s 32us/step - loss: 0.4709 - acc: 0.8043\n",
      "Epoch 10/10\n",
      "8000/8000 [==============================] - 0s 31us/step - loss: 0.4573 - acc: 0.8094\n",
      "[[False]\n",
      " [False]\n",
      " [False]\n",
      " ...\n",
      " [False]\n",
      " [False]\n",
      " [False]]\n"
     ]
    }
   ],
   "source": [
    "model = Sequential()\n",
    "model.add(Dense(10,activation = 'relu',input_dim = 11))\n",
    "model.add(Dense(5,activation = 'relu'))\n",
    "model.add(Dense(1, activation = 'linear'))\n",
    "model.compile(optimizer = 'adam', loss = 'binary_crossentropy', metrics = ['accuracy'])\n",
    "model.fit(X_train, y_train, epochs = 10, batch_size = 32)\n",
    "predictions = model.predict(X_test)\n",
    "predictions = predictions > 0.5\n",
    "print(predictions)\n",
    "cm = confusion_matrix(y_test, predictions)"
   ]
  },
  {
   "cell_type": "code",
   "execution_count": 22,
   "metadata": {},
   "outputs": [
    {
     "name": "stdout",
     "output_type": "stream",
     "text": [
      "[[1527   68]\n",
      " [ 230  175]]\n"
     ]
    }
   ],
   "source": [
    "print(cm)"
   ]
  },
  {
   "cell_type": "code",
   "execution_count": null,
   "metadata": {},
   "outputs": [],
   "source": []
  }
 ],
 "metadata": {
  "kernelspec": {
   "display_name": "Python 3",
   "language": "python",
   "name": "python3"
  },
  "language_info": {
   "codemirror_mode": {
    "name": "ipython",
    "version": 3
   },
   "file_extension": ".py",
   "mimetype": "text/x-python",
   "name": "python",
   "nbconvert_exporter": "python",
   "pygments_lexer": "ipython3",
   "version": "3.6.5"
  }
 },
 "nbformat": 4,
 "nbformat_minor": 2
}
