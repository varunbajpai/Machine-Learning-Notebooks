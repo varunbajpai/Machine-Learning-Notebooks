{
 "cells": [
  {
   "cell_type": "code",
   "execution_count": 4,
   "metadata": {},
   "outputs": [
    {
     "name": "stdout",
     "output_type": "stream",
     "text": [
      "Word2Vec(vocab=14, size=100, alpha=0.025)\n"
     ]
    }
   ],
   "source": [
    "from gensim.models import Word2Vec\n",
    "sentences = [['this', 'is', 'the', 'first', 'sentence', 'for', 'word2vec'],\n",
    "            ['this', 'is', 'the', 'second', 'sentence'],\n",
    "            ['yet', 'another', 'sentence'],\n",
    "            ['one', 'more', 'sentence'],\n",
    "            ['and', 'the', 'final', 'sentence']]\n",
    "\n",
    "# train model\n",
    "model = Word2Vec(sentences, min_count=1)\n",
    "# summarize the loaded model\n",
    "print(model)"
   ]
  },
  {
   "cell_type": "code",
   "execution_count": 5,
   "metadata": {},
   "outputs": [
    {
     "name": "stdout",
     "output_type": "stream",
     "text": [
      "['this', 'is', 'the', 'first', 'sentence', 'for', 'word2vec', 'second', 'yet', 'another', 'one', 'more', 'and', 'final']\n"
     ]
    }
   ],
   "source": [
    "# summarize vocabulary\n",
    "words = list(model.wv.vocab)\n",
    "print(words)"
   ]
  },
  {
   "cell_type": "code",
   "execution_count": 6,
   "metadata": {},
   "outputs": [
    {
     "name": "stdout",
     "output_type": "stream",
     "text": [
      "[ 2.0780077e-03 -1.9042330e-03 -1.0811029e-03  2.7008059e-03\n",
      "  2.1906435e-03  2.7895211e-03 -4.3936255e-03  3.2157437e-03\n",
      "  3.5206450e-03 -9.6453447e-04  4.1859597e-03  2.2522996e-03\n",
      "  1.1548860e-03  4.7903792e-03  4.9122295e-04 -1.3916708e-03\n",
      " -3.3513487e-03 -3.2256180e-04  1.8611630e-05 -2.9574812e-03\n",
      "  4.6094349e-03  1.9926401e-03  9.8267489e-04 -3.1039235e-03\n",
      "  3.6006614e-03 -1.3069971e-03  3.6101433e-04  3.9318856e-04\n",
      "  8.0882368e-04  2.6738846e-03  2.0889570e-03  1.7650524e-03\n",
      "  3.2302353e-03 -2.5822686e-03  8.1217726e-04  1.3210402e-03\n",
      "  1.5164487e-03 -1.4872578e-04 -3.7083484e-03  2.9218248e-03\n",
      "  1.9649561e-03  2.1537696e-03  1.4561048e-03 -1.5189152e-04\n",
      " -3.1273463e-03  4.2133913e-03  6.0124724e-04  1.4139678e-03\n",
      "  7.7475887e-04  2.5397821e-03  4.7769090e-03 -2.9594736e-04\n",
      " -8.4556272e-04  2.6100266e-03  3.1618737e-03  1.4153383e-03\n",
      " -1.0240573e-03  3.9823488e-03 -4.1557653e-03 -2.2848605e-03\n",
      "  4.0591192e-03 -4.1124774e-03 -4.4781417e-03  1.2220007e-03\n",
      "  4.8579168e-04 -4.9074483e-03 -1.0172892e-03 -2.5886018e-04\n",
      "  2.5881798e-04  6.9092661e-05 -2.9725379e-03 -1.9448937e-03\n",
      " -4.8474228e-04 -4.1669612e-03  3.2700980e-03 -1.6608358e-04\n",
      " -3.0052566e-03 -1.3133510e-03  2.7843378e-03 -3.6628009e-03\n",
      " -1.1390370e-03  2.7771930e-03 -1.4856748e-03 -4.2560324e-03\n",
      " -1.4764471e-03  1.7338670e-03 -3.6992289e-05  8.5374463e-04\n",
      " -3.5590341e-03 -3.6387357e-03 -2.5119879e-03 -4.9699880e-03\n",
      "  4.7148750e-03 -1.5359881e-04  3.0433884e-04  7.4751784e-05\n",
      "  2.3190870e-03  4.6505751e-03 -2.8926304e-03  1.7578311e-03]\n"
     ]
    },
    {
     "name": "stderr",
     "output_type": "stream",
     "text": [
      "/home/varun/.local/lib/python3.6/site-packages/ipykernel_launcher.py:2: DeprecationWarning: Call to deprecated `__getitem__` (Method will be removed in 4.0.0, use self.wv.__getitem__() instead).\n",
      "  \n"
     ]
    }
   ],
   "source": [
    "# access vector for one word\n",
    "print(model['sentence'])"
   ]
  },
  {
   "cell_type": "code",
   "execution_count": null,
   "metadata": {},
   "outputs": [],
   "source": [
    "# save model\n",
    "model.save('model.bin')\n",
    "\n",
    "# load model\n",
    "new_model = Word2Vec.load('model.bin')\n",
    "print(new_model)"
   ]
  },
  {
   "cell_type": "code",
   "execution_count": 7,
   "metadata": {},
   "outputs": [],
   "source": [
    "from sklearn.decomposition import PCA\n",
    "from matplotlib import pyplot"
   ]
  },
  {
   "cell_type": "code",
   "execution_count": 8,
   "metadata": {},
   "outputs": [
    {
     "name": "stderr",
     "output_type": "stream",
     "text": [
      "/home/varun/.local/lib/python3.6/site-packages/ipykernel_launcher.py:1: DeprecationWarning: Call to deprecated `__getitem__` (Method will be removed in 4.0.0, use self.wv.__getitem__() instead).\n",
      "  \"\"\"Entry point for launching an IPython kernel.\n"
     ]
    },
    {
     "data": {
      "image/png": "[encoded data removed]",
      "text/plain": [
       "<Figure size 432x288 with 1 Axes>"
      ]
     },
     "metadata": {},
     "output_type": "display_data"
    }
   ],
   "source": [
    "X = model[model.wv.vocab]\n",
    "pca = PCA(n_components=2)\n",
    "result = pca.fit_transform(X)\n",
    "\n",
    "# create a scatter plot of the projection\n",
    "pyplot.scatter(result[:, 0], result[:, 1])\n",
    "words = list(model.wv.vocab)\n",
    "for i, word in enumerate(words):\n",
    "    pyplot.annotate(word, xy=(result[i, 0], result[i, 1]))\n",
    "    \n",
    "pyplot.show()"
   ]
  },
  {
   "cell_type": "code",
   "execution_count": null,
   "metadata": {},
   "outputs": [],
   "source": []
  }
 ],
 "metadata": {
  "kernelspec": {
   "display_name": "Python 3",
   "language": "python",
   "name": "python3"
  },
  "language_info": {
   "codemirror_mode": {
    "name": "ipython",
    "version": 3
   },
   "file_extension": ".py",
   "mimetype": "text/x-python",
   "name": "python",
   "nbconvert_exporter": "python",
   "pygments_lexer": "ipython3",
   "version": "3.6.5"
  }
 },
 "nbformat": 4,
 "nbformat_minor": 2
}
